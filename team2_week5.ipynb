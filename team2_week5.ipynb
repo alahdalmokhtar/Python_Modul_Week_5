{
 "cells": [
  {
   "cell_type": "code",
   "execution_count": 1,
   "id": "36abe2b1",
   "metadata": {},
   "outputs": [
    {
     "name": "stdout",
     "output_type": "stream",
     "text": [
      "The area of Rectangel is :  242\n",
      "The permiter of rectangel is :  66\n",
      "Area: 35\n",
      "Perimeter: 24\n"
     ]
    }
   ],
   "source": [
    "\n",
    "class Rectangel :\n",
    "    # Constructor\n",
    "    \n",
    "    def __init__(self, width,height):\n",
    "        self.width   = width\n",
    "        self.height=height\n",
    "    def get_area(self):\n",
    "        return self.width * self.height\n",
    "    def get_perimeter(self):\n",
    "        return 2 * (self.width + self.height)\n",
    "\n",
    "if __name__ == \"__main__\":\n",
    "    width=int(input(\"Enter the width:\"))\n",
    "    height=int(input(\"Enter the height:\"))\n",
    "    rect = Rectangel(width, height)\n",
    "    print(\"The area of Rectangel is : \", rect.get_area())\n",
    "    permiter=rect.get_perimeter()\n",
    "    print(\"The permiter of rectangel is : \",permiter)\n",
    "    \n",
    "    # Instance the Rectangle class\n",
    "    rect = Rectangel(5, 7)\n",
    "    print(\"Area:\", rect.get_area())\n",
    "    print(\"Perimeter:\", rect.get_perimeter())"
   ]
  },
  {
   "cell_type": "code",
   "execution_count": null,
   "id": "b23848ab",
   "metadata": {},
   "outputs": [],
   "source": [
    "\n",
    "\n"
   ]
  }
 ],
 "metadata": {
  "kernelspec": {
   "display_name": "Python 3",
   "language": "python",
   "name": "python3"
  },
  "language_info": {
   "codemirror_mode": {
    "name": "ipython",
    "version": 3
   },
   "file_extension": ".py",
   "mimetype": "text/x-python",
   "name": "python",
   "nbconvert_exporter": "python",
   "pygments_lexer": "ipython3",
   "version": "3.10.11"
  }
 },
 "nbformat": 4,
 "nbformat_minor": 5
}

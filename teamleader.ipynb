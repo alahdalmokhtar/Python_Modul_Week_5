{
  "cells": [
    {
      "cell_type": "code",
      "execution_count": 8,
      "metadata": {
        "colab": {
          "base_uri": "https://localhost:8080/"
        },
        "id": "6jeHx9ftmpik",
        "outputId": "e4580f40-2180-4bd6-86c5-df5ad5909cde"
      },
      "outputs": [
        {
          "name": "stdout",
          "output_type": "stream",
          "text": [
            "enter the name : Ali\n",
            "enter the surename : Ali\n",
            "enter the phone : 11111\n",
            "enter the Id_number : 11\n",
            "enter the balance : 222222\n",
            "\n",
            "                                  --------Customers Details -------                                  \n",
            "\n",
            "Name                 Sure Name                      Customer ID          Phone                          \n",
            "----------------------------------------------------------------------------------------------------\n",
            "Ali                  Ali                            11                   11111                         \n",
            "----------------------------------------------------------------------------------------------------\n",
            "deposit successfull\n",
            "withdraw successfull\n",
            "balance :  222722\n"
          ]
        }
      ],
      "source": [
        "## Q 5\n",
        "class Customer:\n",
        "  def __init__(self,name,sure_name ,phone,Id_number):\n",
        "    self.name=name\n",
        "   # self.balance=balance\n",
        "    self.surename=sure_name\n",
        "    self.phone=phone\n",
        "    self.Id_number=Id_number\n",
        "\n",
        "  # Corrected indentation for view_customer method\n",
        "  def view_customer(self):\n",
        "    print (\"\\n \"+\"--------Customers Details -------\".center(100))\n",
        "    # Corrected format string to match the number of arguments\n",
        "    print(\"\\n{:<20} {:<30} {:<20} {:<30} \".format(\"Name\", \"Sure Name\", \"Customer ID\", \"Phone\"))\n",
        "    print(\"-\" * 100)\n",
        "    print(\"{:<20} {:<30} {:<20} {:<30}\".format(self.name, self.surename, self.Id_number, self.phone))\n",
        "    print(\"-\" * 100)\n",
        "\n",
        "class Account(Customer):\n",
        "  def __init__(self,name,sure_name,phone , Id_number,balance):\n",
        "    self.name=name\n",
        "    self.surename=sure_name\n",
        "    self.phone=phone\n",
        "    self.Id_number=Id_number\n",
        "    self.balance=balance\n",
        "  def deposit(self,amount):\n",
        "    if amount<=0:\n",
        "      print(\"invalid amount\")\n",
        "      return\n",
        "    else:\n",
        "      self.balance+=amount\n",
        "      print(\"deposit successfull\")\n",
        "  def money_check(self,amount):\n",
        "      if amount<=0:\n",
        "        print(\"invalid amount\")\n",
        "        return\n",
        "      elif amount>self.balance:\n",
        "        print(\"insufficient balance\")\n",
        "        return\n",
        "      else:\n",
        "        self.balance-=amount\n",
        "        print(\"withdraw successfull\")\n",
        "  def display_balance(self):\n",
        "      print(\"balance : \",self.balance)\n",
        "\n",
        "\n",
        "def main():\n",
        "  name=input(\"enter the name : \")\n",
        "  surename=input(\"enter the surename : \")\n",
        "  phone=input(\"enter the phone : \")\n",
        "  Id_number=input(\"enter the Id_number : \")\n",
        "  balance=int(input(\"enter the balance : \"))\n",
        "  customer1=Customer(name,surename,phone,Id_number)\n",
        "  # Remove extra argument from view_customer call\n",
        "  customer1.view_customer()\n",
        "  account1=Account(name,surename,phone,Id_number,balance)\n",
        "  account1.deposit(1000)\n",
        "  account1.money_check(500)\n",
        "  account1.display_balance()\n",
        "\n",
        "if __name__==\"__main__\":\n",
        "  main()"
      ]
    },
    {
      "cell_type": "code",
      "execution_count": 9,
      "metadata": {
        "colab": {
          "base_uri": "https://localhost:8080/"
        },
        "id": "bITwfZQaqdyO",
        "outputId": "34b529ec-ffc2-4255-8376-745d987fb68b"
      },
      "outputs": [
        {
          "name": "stdout",
          "output_type": "stream",
          "text": [
            "enter the width : 11\n",
            "enter the height :11\n",
            "area :  121\n",
            "permiter :  44\n",
            "the instance area :  35\n",
            "the instance permiter :  44\n"
          ]
        }
      ],
      "source": [
        "##  Q 1\n",
        "class Rectangel :\n",
        "  def __init__(self,width,height):\n",
        "    self.width=width\n",
        "    self.height=height\n",
        "  def area(self):\n",
        "    return self.width * self.height\n",
        "  def permiter(self):\n",
        "    return 2*(self.width+self.height)\n",
        "def main():\n",
        "    width=int(input(\"enter the width : \"))\n",
        "    height=int(input(\"enter the height :\"))\n",
        "    rect=Rectangel(width,height)\n",
        "    print(\"area : \",Rectangel.area(rect))\n",
        "    print(\"permiter : \",Rectangel.permiter(rect))\n",
        "    rect1=Rectangel(5,7)\n",
        "    print(\"the instance area : \",rect1.area())\n",
        "    print(\"the instance permiter : \",rect.permiter())\n",
        "\n",
        "if __name__==main():\n",
        "    main()\n"
      ]
    },
    {
      "cell_type": "code",
      "execution_count": 22,
      "metadata": {
        "colab": {
          "base_uri": "https://localhost:8080/"
        },
        "id": "7ibe3vWbq-lD",
        "outputId": "7e49a9c6-24a6-42c7-a374-a1a6b879802b"
      },
      "outputs": [
        {
          "name": "stdout",
          "output_type": "stream",
          "text": [
            "enter the name of the school : AAAAAAAA\n",
            "enter the foundation year : 222222\n",
            "student added successfully\n",
            "student added successfully\n",
            "\n",
            "                                  ------------ Details students-----                                 \n",
            "\n",
            "Name                 Class                         \n",
            "--------------------------------------------------\n",
            "ahmed                Math                          \n",
            "Ali                  Quran                         \n",
            "--------------------------------------------------\n",
            "\n",
            "                                  ------------ Details teachers-----                                 \n",
            "\n",
            " Name                Branch                        \n",
            "--------------------------------------------------\n",
            "ahmed                Math                          \n",
            "Ali                  Quran                         \n",
            "--------------------------------------------------\n"
          ]
        }
      ],
      "source": [
        "### Q 2\n",
        "class school:\n",
        "  students=[]\n",
        "  teacher={}\n",
        "  def __init__(self,name,foundation_year): # Corrected initializer name to __init__\n",
        "    self.name=name\n",
        "    self.foundation_year=foundation_year\n",
        "    self.students=[]\n",
        "    self.teacher={}\n",
        "  def add_student(self,student_name,class1):\n",
        "    self.students.append((student_name,class1))\n",
        "    print(\"student added successfully\")\n",
        "  def add_teacher(self,teacher_name,branch):\n",
        "    self.teacher[teacher_name]=branch\n",
        "  def view_students(self):\n",
        "    print(\"\\n \" + \"------------ Details students-----\".center(100))\n",
        "    # Corrected format string\n",
        "    print(\"\\n{:<20} {:<30}\".format(\"Name\", \"Class\"))\n",
        "    print(\"-\" * 50)\n",
        "\n",
        "    for student, class1 in self.students:\n",
        "      # Corrected to use loop variables\n",
        "      print(\"{:<20} {:<30}\".format(student, class1))\n",
        "    print(\"-\" * 50)\n",
        "\n",
        "\n",
        "  def view_teachers(self):\n",
        "    print(\"\\n \"+ \"------------ Details teachers-----\".center(100))\n",
        "    print(\"\\n {:<20}{:<30}\".format(\"Name \", \"Branch\"))\n",
        "    print(\"-\" * 50)\n",
        "    for teacher,branch in self.teacher.items():\n",
        "      print(\"{:<20} {:<30}\".format(teacher,branch))\n",
        "    print(\"-\"*50)\n",
        "def main():\n",
        "  school_name=input(\"enter the name of the school : \")\n",
        "  foundation_year=int(input(\"enter the foundation year : \"))\n",
        "  school1=school(school_name,foundation_year)\n",
        "  student1=school1.add_student(\"ahmed\",\"Math\")\n",
        "  student2=school1.add_student(\"Ali\",\"Quran\")\n",
        "  teacher1=school1.add_teacher(\"ahmed\",\"Math\")\n",
        "  teacher2=school1.add_teacher(\"Ali\",\"Quran\")\n",
        "  school1.view_students()\n",
        "  school1.view_teachers()\n",
        "if __name__==\"__main__\":\n",
        "  main()"
      ]
    },
    {
      "cell_type": "code",
      "execution_count": 35,
      "metadata": {
        "colab": {
          "base_uri": "https://localhost:8080/"
        },
        "id": "ZJZ5aXVWzA92",
        "outputId": "59b664c9-5516-4c6d-e650-e41ddae35926"
      },
      "outputs": [
        {
          "name": "stdout",
          "output_type": "stream",
          "text": [
            "the area for Rectangel is :  120\n",
            "the area for squre is  :  120\n",
            "the area for Rectangel is :  120\n",
            "the area for Square is :  100\n"
          ]
        }
      ],
      "source": [
        "## Q 3 :\n",
        "class Shape:\n",
        "  def __init__(self,length,width):\n",
        "    self.length=length\n",
        "    self.width=width\n",
        "\n",
        "class Rectangel(Shape):\n",
        "  def __init__(self,length,width):\n",
        "    super().__init__(length,width)\n",
        "  def calculate_area(self):\n",
        "      return self.length*self.width\n",
        "\n",
        "class Square(Shape):\n",
        "  def __init__(self,length,width):\n",
        "    super().__init__(length,width)\n",
        "  def calculate_area(self):\n",
        "      return self.length*self.width\n",
        "\n",
        "def main():\n",
        "  rect=Shape(12,10)\n",
        "  print(\"the area for Rectangel is : \", Rectangel.calculate_area(rect))\n",
        "  print(\"the area for squre is  : \", Square.calculate_area(rect))\n",
        "  square=Square(10,10)\n",
        "  rectangel=Rectangel(12,10)\n",
        "  print(\"the area for Rectangel is : \", rectangel.calculate_area())\n",
        "  print(\"the area for Square is : \", square.calculate_area())\n",
        "\n",
        "if __name__==\"__main__\":\n",
        "  main()\n",
        "\n"
      ]
    },
    {
      "cell_type": "code",
      "execution_count": null,
      "metadata": {
        "colab": {
          "base_uri": "https://localhost:8080/"
        },
        "id": "ZmZgX3_B7Fzl",
        "outputId": "ab7835c3-d4bc-4763-b936-4b44d2318c18"
      },
      "outputs": [
        {
          "name": "stdout",
          "output_type": "stream",
          "text": [
            "--------- Off_Road Details ---------- : \n",
            "Brand     Model     Year      Four Wheel Drive    \n",
            "Ferari    f40       2023      1                   \n",
            "--------------------------------------------------\n",
            "\n",
            "\n",
            "--------- SportsCar Details ---------- : \n",
            "Brand     Model     Year      Max Speed           \n",
            "Opel      s13       2023      250                 \n",
            "--------------------------------------------------\n"
          ]
        }
      ],
      "source": [
        "##Q 4\n",
        "class Vehicle:  #\n",
        "  def __init__(self, brand, model, year):\n",
        "    self.brand = brand\n",
        "    self.model = model\n",
        "    self.year = year\n",
        "\n",
        "class Off_Road(Vehicle):  # Inherit from Vehicle\n",
        "  def __init__(self, brand, model, year, four_wheel_drive):\n",
        "    super().__init__(brand, model, year)  # Call Vehicle's __init__\n",
        "    self.four_wheel_drive = four_wheel_drive\n",
        "  def display_details(self):\n",
        "\n",
        "    print(\"--------- Off_Road Details ---------- : \")\n",
        "    # Removing spaces between format codes\n",
        "    print(\"{:<10}{:<10}{:<10}{:<20}\".format(\"Brand\", \"Model\", \"Year\", \"Four Wheel Drive\", \"Max Speed\"))\n",
        "    # Access four_wheel_drive from Off_Road instance\n",
        "    # You might want to handle the case where it's not an Off_Road instance\n",
        "    four_wheel_drive = getattr(self, 'four_wheel_drive', 'N/A')\n",
        "    print(\"{:<10}{:<10}{:<10}{:<20}\".format(self.brand, self.model, self.year, four_wheel_drive))\n",
        "    print(\"-\" * 50)\n",
        "\n",
        "class SportsCar(Vehicle):  # Inherit from Vehicle\n",
        "  def __init__(self, brand, model, year, max_speed):\n",
        "    super().__init__(brand, model, year)  # Call Vehicle's __init__\n",
        "    self.max_speed = max_speed\n",
        "\n",
        "\n",
        "  def display_details(self):\n",
        "    # print(\"-\" * 50)\n",
        "    print(\"--------- SportsCar Details ---------- : \")\n",
        "    # Removing spaces between format codes\n",
        "    print(\"{:<10}{:<10}{:<10}{:<20}\".format(\"Brand\", \"Model\", \"Year\", \"Max Speed\"))\n",
        "    # Access four_wheel_drive from Off_Road instance\n",
        "    # You might want to handle the case where it's not an Off_Road instance\n",
        "    four_wheel_drive = getattr(self, 'four_wheel_drive', 'N/A')\n",
        "    print(\"{:<10}{:<10}{:<10}{:<20}\".format(self.brand, self.model, self.year, self.max_speed))\n",
        "    print(\"-\" * 50)\n",
        "\n",
        "def main():\n",
        "  # brand = input(\"enter the brand : \")\n",
        "  # model = input(\"enter the model : \")\n",
        "  # year = int(input(\"enter the year : \"))\n",
        "  # four_wheel_drive = input(\"enter the four wheel drive : \")\n",
        "  # max_speed = input(\"enter the max speed : \")\n",
        "  # Create instances of the classes\n",
        "  s=Off_Road('Ferari','f40', 2023,True)\n",
        "  Off_Road.display_details(s)\n",
        "  print(\"\\n\")\n",
        "  ve=SportsCar('Opel','s13',2023,250)\n",
        "  #vehicle1 = Off_Road(brand, model, year, four_wheel_drive)  # Instance of Off_Road\n",
        "  #vehicle2 = SportsCar(brand, model, year, max_speed)  # Instance of SportsCar\n",
        "  ve.display_details()\n",
        "\n",
        "\n",
        "if __name__ == \"__main__\":\n",
        "  main()"
      ]
    }
  ],
  "metadata": {
    "colab": {
      "provenance": []
    },
    "kernelspec": {
      "display_name": "Python 3",
      "name": "python3"
    },
    "language_info": {
      "name": "python"
    }
  },
  "nbformat": 4,
  "nbformat_minor": 0
}
